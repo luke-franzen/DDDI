{
 "cells": [
  {
   "cell_type": "markdown",
   "metadata": {},
   "source": [
    "# Data Processing and Exploration\n",
    "\n",
    "\n",
    "In this notebook we're going to look at the raw data and pare it down to a more managable size and normalized format.\n",
    "\n",
    "- College Football schedules (regular and bowl seasons)\n",
    "- University of Iowa arrests\n",
    "- Johnson County Arrests\n",
    "- Other related datasets as they come up."
   ]
  },
  {
   "cell_type": "code",
   "execution_count": 1,
   "metadata": {
    "collapsed": true
   },
   "outputs": [],
   "source": [
    "# Libraries, base baths, etc\n",
    "import pandas as pd\n",
    "import numpy as np\n",
    "import json\n",
    "\n",
    "dirData = '../data/'\n",
    "dirDataProc = dirData + 'processed/'\n",
    "\n",
    "dirCfb = dirData + 'in/cfb/'\n",
    "dirScrapeFran = dirData + 'in/franzen-scrape/'"
   ]
  },
  {
   "cell_type": "markdown",
   "metadata": {},
   "source": [
    "## College Football\n",
    "\n",
    "**Lines**: There is some dirty data with the `Line` column mispelled as `Lines ` with an extra space. We'll correct accordingly."
   ]
  },
  {
   "cell_type": "code",
   "execution_count": 2,
   "metadata": {
    "collapsed": false
   },
   "outputs": [
    {
     "name": "stdout",
     "output_type": "stream",
     "text": [
      "There were 25906 regular season games from 1978 - 2014.\n"
     ]
    },
    {
     "data": {
      "text/html": [
       "<div>\n",
       "<table border=\"1\" class=\"dataframe\">\n",
       "  <thead>\n",
       "    <tr style=\"text-align: right;\">\n",
       "      <th></th>\n",
       "      <th>Date</th>\n",
       "      <th>Visitor</th>\n",
       "      <th>Visitor Score</th>\n",
       "      <th>Home Team</th>\n",
       "      <th>Home Score</th>\n",
       "      <th>Line</th>\n",
       "    </tr>\n",
       "  </thead>\n",
       "  <tbody>\n",
       "    <tr>\n",
       "      <th>0</th>\n",
       "      <td>09/01/1978</td>\n",
       "      <td>Penn State</td>\n",
       "      <td>10.0</td>\n",
       "      <td>Temple</td>\n",
       "      <td>7.0</td>\n",
       "      <td>-24.5</td>\n",
       "    </tr>\n",
       "    <tr>\n",
       "      <th>1</th>\n",
       "      <td>09/02/1978</td>\n",
       "      <td>Arkansas State</td>\n",
       "      <td>20.0</td>\n",
       "      <td>Tulsa</td>\n",
       "      <td>21.0</td>\n",
       "      <td>1.0</td>\n",
       "    </tr>\n",
       "    <tr>\n",
       "      <th>2</th>\n",
       "      <td>09/02/1978</td>\n",
       "      <td>East Carolina</td>\n",
       "      <td>14.0</td>\n",
       "      <td>Western Carolina</td>\n",
       "      <td>6.0</td>\n",
       "      <td></td>\n",
       "    </tr>\n",
       "    <tr>\n",
       "      <th>3</th>\n",
       "      <td>09/02/1978</td>\n",
       "      <td>Eastern Michigan</td>\n",
       "      <td>3.0</td>\n",
       "      <td>Northern Michigan</td>\n",
       "      <td>30.0</td>\n",
       "      <td></td>\n",
       "    </tr>\n",
       "    <tr>\n",
       "      <th>4</th>\n",
       "      <td>09/02/1978</td>\n",
       "      <td>Nebraska</td>\n",
       "      <td>3.0</td>\n",
       "      <td>Alabama</td>\n",
       "      <td>20.0</td>\n",
       "      <td>11.5</td>\n",
       "    </tr>\n",
       "  </tbody>\n",
       "</table>\n",
       "</div>"
      ],
      "text/plain": [
       "         Date           Visitor  Visitor Score          Home Team  Home Score  \\\n",
       "0  09/01/1978        Penn State           10.0             Temple         7.0   \n",
       "1  09/02/1978    Arkansas State           20.0              Tulsa        21.0   \n",
       "2  09/02/1978     East Carolina           14.0   Western Carolina         6.0   \n",
       "3  09/02/1978  Eastern Michigan            3.0  Northern Michigan        30.0   \n",
       "4  09/02/1978          Nebraska            3.0            Alabama        20.0   \n",
       "\n",
       "    Line  \n",
       "0  -24.5  \n",
       "1    1.0  \n",
       "2         \n",
       "3         \n",
       "4   11.5  "
      ]
     },
     "execution_count": 2,
     "metadata": {},
     "output_type": "execute_result"
    }
   ],
   "source": [
    "# Concatenate all the csv files from College Football regular season\n",
    "yearsCfb = range(1978, 2015)\n",
    "\n",
    "# Create a regular season data frame\n",
    "gamesRegular = pd.DataFrame()\n",
    "for year in yearsCfb:\n",
    "    \n",
    "    # conditional, the file formatting changes halfway through\n",
    "    if year < 2009:\n",
    "        path = dirCfb + 'ncaa{}lines.csv'.format(year)\n",
    "    else:\n",
    "        path = dirCfb + 'cfb{}lines.csv'.format(year)\n",
    "        \n",
    "    frame = pd.read_csv(path, parse_dates=True)\n",
    "    if ('Line ' in frame.columns.tolist()):\n",
    "        frame.rename(columns={'Line ': 'Line'}, inplace=True)\n",
    "        \n",
    "    gamesRegular = gamesRegular.append(frame, ignore_index=True)\n",
    "\n",
    "print (\"There were {} regular season games from 1978 - 2014.\".format(gamesRegular.shape[0]))\n",
    "gamesRegular.head()"
   ]
  },
  {
   "cell_type": "code",
   "execution_count": 3,
   "metadata": {
    "collapsed": false
   },
   "outputs": [
    {
     "data": {
      "text/html": [
       "<div>\n",
       "<table border=\"1\" class=\"dataframe\">\n",
       "  <thead>\n",
       "    <tr style=\"text-align: right;\">\n",
       "      <th></th>\n",
       "      <th>Bowl Name</th>\n",
       "      <th>Date</th>\n",
       "      <th>Home Score</th>\n",
       "      <th>Home Team</th>\n",
       "      <th>Line</th>\n",
       "      <th>Visitor</th>\n",
       "      <th>Visitor Score</th>\n",
       "    </tr>\n",
       "  </thead>\n",
       "  <tbody>\n",
       "    <tr>\n",
       "      <th>0</th>\n",
       "      <td>Garden State Bowl</td>\n",
       "      <td>12/16/1978</td>\n",
       "      <td>18</td>\n",
       "      <td>Rutgers</td>\n",
       "      <td>-11.0</td>\n",
       "      <td>Arizona State</td>\n",
       "      <td>34</td>\n",
       "    </tr>\n",
       "    <tr>\n",
       "      <th>1</th>\n",
       "      <td>Independence Bowl</td>\n",
       "      <td>12/16/1978</td>\n",
       "      <td>13</td>\n",
       "      <td>Louisiana Tech</td>\n",
       "      <td></td>\n",
       "      <td>East Carolina</td>\n",
       "      <td>35</td>\n",
       "    </tr>\n",
       "    <tr>\n",
       "      <th>2</th>\n",
       "      <td>Hall of Fame Bowl</td>\n",
       "      <td>12/20/1978</td>\n",
       "      <td>28</td>\n",
       "      <td>Texas A+M</td>\n",
       "      <td>6.5</td>\n",
       "      <td>Iowa State</td>\n",
       "      <td>12</td>\n",
       "    </tr>\n",
       "    <tr>\n",
       "      <th>3</th>\n",
       "      <td>Holiday Bowl</td>\n",
       "      <td>12/22/1978</td>\n",
       "      <td>23</td>\n",
       "      <td>Navy</td>\n",
       "      <td>5.5</td>\n",
       "      <td>Brigham Young</td>\n",
       "      <td>16</td>\n",
       "    </tr>\n",
       "    <tr>\n",
       "      <th>4</th>\n",
       "      <td>Liberty Bowl</td>\n",
       "      <td>12/23/1978</td>\n",
       "      <td>20</td>\n",
       "      <td>Missouri</td>\n",
       "      <td>7.0</td>\n",
       "      <td>Louisiana State</td>\n",
       "      <td>15</td>\n",
       "    </tr>\n",
       "  </tbody>\n",
       "</table>\n",
       "</div>"
      ],
      "text/plain": [
       "           Bowl Name        Date Home Score       Home Team   Line  \\\n",
       "0  Garden State Bowl  12/16/1978         18         Rutgers  -11.0   \n",
       "1  Independence Bowl  12/16/1978         13  Louisiana Tech          \n",
       "2  Hall of Fame Bowl  12/20/1978         28       Texas A+M    6.5   \n",
       "3       Holiday Bowl  12/22/1978         23            Navy    5.5   \n",
       "4       Liberty Bowl  12/23/1978         20        Missouri    7.0   \n",
       "\n",
       "           Visitor Visitor Score  \n",
       "0    Arizona State            34  \n",
       "1    East Carolina            35  \n",
       "2       Iowa State            12  \n",
       "3    Brigham Young            16  \n",
       "4  Louisiana State            15  "
      ]
     },
     "execution_count": 3,
     "metadata": {},
     "output_type": "execute_result"
    }
   ],
   "source": [
    "# Create a bowl season data frame\n",
    "gamesBowl = pd.DataFrame()\n",
    "\n",
    "for year in yearsCfb:\n",
    "    path = dirCfb + '/bowl{}lines.csv'.format(year)\n",
    "    frame = pd.read_csv(path, parse_dates=True)\n",
    "    \n",
    "    gamesBowl = gamesBowl.append(frame, ignore_index=True)\n",
    "    \n",
    "gamesBowl.head()"
   ]
  },
  {
   "cell_type": "code",
   "execution_count": 4,
   "metadata": {
    "collapsed": false
   },
   "outputs": [
    {
     "data": {
      "text/plain": [
       "(26732, 7)"
      ]
     },
     "execution_count": 4,
     "metadata": {},
     "output_type": "execute_result"
    }
   ],
   "source": [
    "# Make a master College Football data frame\n",
    "gamesMaster = gamesBowl.append(gamesRegular)\n",
    "gamesMaster.shape"
   ]
  },
  {
   "cell_type": "code",
   "execution_count": 5,
   "metadata": {
    "collapsed": false
   },
   "outputs": [],
   "source": [
    "# Lets write these combined csv's to our processed data folder. \n",
    "# We might yet do more analysis, so it's best to keep it in the 'rough draft'\n",
    "gamesRegular.to_csv(dirDataProc + 'cfb-regular-games.csv')\n",
    "gamesBowl.to_csv(dirDataProc + 'cfb-bowl-games.csv')\n",
    "gamesMaster.to_csv(dirDataProc + 'cfb-all-games.csv')"
   ]
  },
  {
   "cell_type": "code",
   "execution_count": 6,
   "metadata": {
    "collapsed": false
   },
   "outputs": [],
   "source": [
    "# Create a helper function to grab any team\n",
    "# Input is (in strings), output is a dataframe\n",
    "# # college\n",
    "# # gameType: regular, bowl, all\n",
    "# # gameLoc: home, away, all\n",
    "\n",
    "def getCollegeGames(college, gameType=\"regular\", gameLoc=\"all\"):\n",
    "    # Switch to set which dataframe we'll be pulling from\n",
    "    if (gameType == 'regular'):\n",
    "        df = gamesRegular\n",
    "    elif (gameType == 'bowl'):\n",
    "        df = gamesBowl\n",
    "    elif (gameType == 'all'):\n",
    "        df = gamesMaster\n",
    "        \n",
    "    # Switch for which locations to look at\n",
    "    if (gameLoc == 'all'):\n",
    "        return df[(df['Home Team'] == college) | (df['Visitor'] == college)]\n",
    "    elif (gameLoc == 'home'):\n",
    "        return df[(df['Home Team'] == college)]\n",
    "    elif (gameType == 'away'):\n",
    "        return df[(df['Visitor'] == college)]"
   ]
  },
  {
   "cell_type": "code",
   "execution_count": 10,
   "metadata": {
    "collapsed": false
   },
   "outputs": [],
   "source": [
    "# iowa home games and bowl games which is what we're interested in.\n",
    "iowaHome = getCollegeGames('Iowa', 'bowl', 'home')\n",
    "iowaHome.head()\n",
    "\n",
    "# write it out!\n",
    "#iowaHome.to_csv(dirDataProc + 'iowa-home-and-bowl-games.csv')"
   ]
  },
  {
   "cell_type": "markdown",
   "metadata": {
    "collapsed": true
   },
   "source": [
    "## Franzen scraped data\n",
    "\n",
    "**To do**\n",
    "- Describe the scraping process\n",
    "- Get caveats and possible flaws from L. Franzen\n",
    "\n",
    "\n",
    "The `activities.json` is the most complete data set, so we'll start from there."
   ]
  },
  {
   "cell_type": "code",
   "execution_count": 8,
   "metadata": {
    "collapsed": false
   },
   "outputs": [],
   "source": [
    "# The data is saved in JSON format, but it's just a dict per line\n",
    "\n",
    "with open(dirScrapeFran + 'activities.json') as f:\n",
    "    scrapeActivities = pd.DataFrame(json.loads(line) for line in f)\n",
    "    \n",
    "with open(dirScrapeFran + 'activityList.json') as f:\n",
    "    scrapeActivitiesList = pd.DataFrame(json.loads(line) for line in f)\n",
    "    \n",
    "with open(dirScrapeFran + 'dispositionList.json') as f:\n",
    "    scrapedispositionList = pd.DataFrame(json.loads(line) for line in f)"
   ]
  },
  {
   "cell_type": "code",
   "execution_count": 9,
   "metadata": {
    "collapsed": false
   },
   "outputs": [
    {
     "data": {
      "text/plain": [
       "[u'_id',\n",
       " u'activity',\n",
       " u'address',\n",
       " u'addresses',\n",
       " u'apt',\n",
       " u'date',\n",
       " u'datetime',\n",
       " u'details',\n",
       " u'dispatch',\n",
       " u'disposition',\n",
       " u'inc',\n",
       " u'lat',\n",
       " u'link',\n",
       " u'loc',\n",
       " u'lon',\n",
       " u'time']"
      ]
     },
     "execution_count": 9,
     "metadata": {},
     "output_type": "execute_result"
    }
   ],
   "source": [
    "scrapeActivities.columns.tolist()"
   ]
  },
  {
   "cell_type": "code",
   "execution_count": null,
   "metadata": {
    "collapsed": false
   },
   "outputs": [],
   "source": []
  }
 ],
 "metadata": {
  "kernelspec": {
   "display_name": "Python 2",
   "language": "python",
   "name": "python2"
  },
  "language_info": {
   "codemirror_mode": {
    "name": "ipython",
    "version": 2
   },
   "file_extension": ".py",
   "mimetype": "text/x-python",
   "name": "python",
   "nbconvert_exporter": "python",
   "pygments_lexer": "ipython2",
   "version": "2.7.12"
  }
 },
 "nbformat": 4,
 "nbformat_minor": 0
}
