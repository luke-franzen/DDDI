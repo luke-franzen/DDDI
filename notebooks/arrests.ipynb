{
 "cells": [
  {
   "cell_type": "markdown",
   "metadata": {},
   "source": [
    "# Arrests\n",
    "\n",
    "Two data sets:\n",
    "1. Franzen Scraped\n",
    "2. Larson Scraped (naive)\n",
    "\n",
    "## Franzen Scraped"
   ]
  },
  {
   "cell_type": "code",
   "execution_count": 1,
   "metadata": {
    "collapsed": true
   },
   "outputs": [],
   "source": [
    "# Libraries, base baths, etc\n",
    "import pandas as pd\n",
    "import numpy as np\n",
    "import json\n",
    "import csv\n",
    "\n",
    "dirData = '../data/'\n",
    "dirDataExt = dirData + 'external/'\n",
    "dirDataProc = dirData + 'processed/'\n",
    "\n",
    "dirScrapeFran = dirDataExt + 'franzen-scrape/'\n",
    "dirScrapeLars = dirDataExt + 'larson-scrape/'"
   ]
  },
  {
   "cell_type": "code",
   "execution_count": 2,
   "metadata": {
    "collapsed": false
   },
   "outputs": [],
   "source": [
    "# Helper to read the ndljson's\n",
    "def readNDLJson(f):\n",
    "    with open(f) as data:\n",
    "        jsonList = [json.loads(line) for line in data]\n",
    "    return jsonList\n",
    "\n",
    "# Helper function to format the arrests\n",
    "def formatRecord(record, ind=False):\n",
    "    if (ind == True):\n",
    "        record['datetime'] = record['datetime']['$date']\n",
    "    record['_id'] = record['_id']['$oid']\n",
    "    \n",
    "    return record"
   ]
  },
  {
   "cell_type": "code",
   "execution_count": 3,
   "metadata": {
    "collapsed": false
   },
   "outputs": [],
   "source": [
    "# Read and format the data\n",
    "\n",
    "actJson = readNDLJson(dirScrapeFran + 'activities.json')\n",
    "for arrest in actJson:\n",
    "    arrest = formatRecord(arrest, True)\n",
    "    \n",
    "actListJson = readNDLJson(dirScrapeFran + 'activityList.json')\n",
    "for activity in actListJson:\n",
    "    activity = formatRecord(activity)\n",
    "\n",
    "disJson = readNDLJson(dirScrapeFran + 'dispositionList.json')\n",
    "for disp in disJson:\n",
    "    disp = formatRecord(disp)"
   ]
  },
  {
   "cell_type": "code",
   "execution_count": 4,
   "metadata": {
    "collapsed": false
   },
   "outputs": [
    {
     "data": {
      "text/plain": [
       "{u'_id': u'50fcbd7ec0025f8c936c11ae',\n",
       " u'activity': u'ANIMAL/NEGLECT',\n",
       " u'address': u'938 Longfellow Place, Iowa City, IA 52240, USA',\n",
       " u'apt': u'',\n",
       " u'date': {u'$date': u'2013-01-07T14:29:00.000+0000'},\n",
       " u'datetime': u'2013-01-07T14:29:00.000+0000',\n",
       " u'details': u'Linked to CFS#: 13003060',\n",
       " u'dispatch': u'13003059',\n",
       " u'disposition': u'COMPLETED',\n",
       " u'inc': u'00234',\n",
       " u'link': u'?dis=13003059&date=01072013',\n",
       " u'loc': [-91.515237, 41.650727],\n",
       " u'time': u'02:29 pm'}"
      ]
     },
     "execution_count": 4,
     "metadata": {},
     "output_type": "execute_result"
    }
   ],
   "source": [
    "actJson[2020]"
   ]
  },
  {
   "cell_type": "code",
   "execution_count": 5,
   "metadata": {
    "collapsed": false
   },
   "outputs": [],
   "source": [
    "# Read the formatted lists into DataFrame\n",
    "actExcCol = ['_id', 'address', 'addresses', 'apt', 'date', 'dispatch', 'inc', 'link', 'time']\n",
    "activity = pd.DataFrame.from_records(actJson, exclude=actExcCol)\n",
    "\n",
    "actList = pd.DataFrame.from_records(actListJson, exclude=['index'])\n",
    "dispList = pd.DataFrame.from_records(disJson, exclude=['index'])"
   ]
  },
  {
   "cell_type": "code",
   "execution_count": 6,
   "metadata": {
    "collapsed": false
   },
   "outputs": [
    {
     "name": "stdout",
     "output_type": "stream",
     "text": [
      "9772\n"
     ]
    },
    {
     "data": {
      "text/html": [
       "<div>\n",
       "<table border=\"1\" class=\"dataframe\">\n",
       "  <thead>\n",
       "    <tr style=\"text-align: right;\">\n",
       "      <th></th>\n",
       "      <th>activity</th>\n",
       "      <th>datetime</th>\n",
       "      <th>details</th>\n",
       "      <th>disposition</th>\n",
       "      <th>lat</th>\n",
       "      <th>loc</th>\n",
       "      <th>lon</th>\n",
       "    </tr>\n",
       "  </thead>\n",
       "  <tbody>\n",
       "    <tr>\n",
       "      <th>0</th>\n",
       "      <td>TRAFFIC STOP</td>\n",
       "      <td>2013-01-20T16:50:00.000+0000</td>\n",
       "      <td>CERTIFIED SENT</td>\n",
       "      <td>ARREST MADE</td>\n",
       "      <td>NaN</td>\n",
       "      <td>[-91.500164, 41.635156]</td>\n",
       "      <td>NaN</td>\n",
       "    </tr>\n",
       "  </tbody>\n",
       "</table>\n",
       "</div>"
      ],
      "text/plain": [
       "       activity                      datetime         details  disposition  \\\n",
       "0  TRAFFIC STOP  2013-01-20T16:50:00.000+0000  CERTIFIED SENT  ARREST MADE   \n",
       "\n",
       "   lat                      loc  lon  \n",
       "0  NaN  [-91.500164, 41.635156]  NaN  "
      ]
     },
     "execution_count": 6,
     "metadata": {},
     "output_type": "execute_result"
    }
   ],
   "source": [
    "# From police activity, calc johnson county blotter\n",
    "arrestsFran = activity[(activity['disposition'] == 'ARREST MADE') | (activity['disposition'] == 'ARREST MADEA')]\n",
    "ticketsFran = activity[activity['disposition'] == 'CHARGED/RELEASED']\n",
    "blotter = pd.concat([arrestsFran, ticketsFran])\n",
    "\n",
    "print (blotter.size)\n",
    "blotter.head(1)"
   ]
  },
  {
   "cell_type": "code",
   "execution_count": 7,
   "metadata": {
    "collapsed": false
   },
   "outputs": [],
   "source": [
    "# Simplify disposition\n",
    "blotter['chargeType'] = blotter['disposition'].apply(lambda x: 'A' if (x == ('ARREST MADE' or 'ARREST MADEA')) else 'C')\n",
    "blotter['datetime'] = pd.to_datetime(blotter['datetime'])\n",
    "\n",
    "# Redefine the blotter\n",
    "blotter = blotter[['datetime', 'activity', 'loc', 'chargeType']]"
   ]
  },
  {
   "cell_type": "markdown",
   "metadata": {},
   "source": [
    "## Naive Scraping"
   ]
  },
  {
   "cell_type": "code",
   "execution_count": 8,
   "metadata": {
    "collapsed": true
   },
   "outputs": [],
   "source": [
    "# csv files and data structures\n",
    "jcOld = dirScrapeLars + '10-15-naive.csv'\n",
    "jcNew = dirScrapeLars + '9-16-naive.csv'\n",
    "\n",
    "arrestsNaive = []"
   ]
  },
  {
   "cell_type": "code",
   "execution_count": 9,
   "metadata": {
    "collapsed": false
   },
   "outputs": [],
   "source": [
    "# Define a formatting function to read naive web scrapes\n",
    "def formatLarson(arr):\n",
    "    #Use incident number as the key, it's unique. \n",
    "    key = row.pop(\"*Incident #*\")\n",
    "    if key == \"*Incident #*\":\n",
    "        return\n",
    "\n",
    "    dates = row.pop(\"*Offense Date*\\nDate of Birth\")\n",
    "    try:\n",
    "        arrestDate = dates.split(\"*\")[1]\n",
    "    except:\n",
    "        # if there is no date, discard as we can't classify it\n",
    "        return\n",
    "        \n",
    "    arrestType = row.pop(\"*C/A*\")\n",
    "    arrestAddress = row.pop(\"Arrest Location\")\n",
    "    arrestCharges = row.pop(\"*Charge(s)*\")\n",
    "    \n",
    "    arrestsNaive.append({\"loc\":arrestAddress, \"datetime\": arrestDate, \"chargeType\":arrestType, \n",
    "                         \"activity\":arrestCharges})"
   ]
  },
  {
   "cell_type": "code",
   "execution_count": 10,
   "metadata": {
    "collapsed": true
   },
   "outputs": [],
   "source": [
    "# Helper function to coerce the charges into something more concise\n",
    "def chargesList(arr):\n",
    "    splitted = arr.split('\\n')\n",
    "    newCharges = []\n",
    "    for charge in splitted:\n",
    "        if (len(charge[2:]) >= 3):\n",
    "            newCharges.append(charge[2:])\n",
    "        \n",
    "    return newCharges"
   ]
  },
  {
   "cell_type": "code",
   "execution_count": 11,
   "metadata": {
    "collapsed": false
   },
   "outputs": [
    {
     "data": {
      "text/html": [
       "<div>\n",
       "<table border=\"1\" class=\"dataframe\">\n",
       "  <thead>\n",
       "    <tr style=\"text-align: right;\">\n",
       "      <th></th>\n",
       "      <th>activity</th>\n",
       "      <th>chargeType</th>\n",
       "      <th>datetime</th>\n",
       "      <th>loc</th>\n",
       "    </tr>\n",
       "  </thead>\n",
       "  <tbody>\n",
       "    <tr>\n",
       "      <th>0</th>\n",
       "      <td>[ Assault Causing Injury]</td>\n",
       "      <td>A</td>\n",
       "      <td>2015-10-30 23:30:00</td>\n",
       "      <td>2116 FRIENDSHIP ST</td>\n",
       "    </tr>\n",
       "    <tr>\n",
       "      <th>1</th>\n",
       "      <td>[ Harassment 3rd Degree]</td>\n",
       "      <td>A</td>\n",
       "      <td>2015-11-03 12:00:00</td>\n",
       "      <td>IOWA CITY</td>\n",
       "    </tr>\n",
       "    <tr>\n",
       "      <th>2</th>\n",
       "      <td>[ OWI]</td>\n",
       "      <td>A</td>\n",
       "      <td>2015-11-05 01:57:00</td>\n",
       "      <td>111 S LUCAS</td>\n",
       "    </tr>\n",
       "    <tr>\n",
       "      <th>3</th>\n",
       "      <td>[ Drive while license under suspension/cancelled]</td>\n",
       "      <td>C</td>\n",
       "      <td>2015-11-04 23:31:00</td>\n",
       "      <td>RIVERSIDE DR/GRAND</td>\n",
       "    </tr>\n",
       "    <tr>\n",
       "      <th>4</th>\n",
       "      <td>[ Child endangerment/abuse- no injury,  Interf...</td>\n",
       "      <td>A</td>\n",
       "      <td>2015-11-04 23:43:00</td>\n",
       "      <td>1926 BROADWAY ST APT B</td>\n",
       "    </tr>\n",
       "  </tbody>\n",
       "</table>\n",
       "</div>"
      ],
      "text/plain": [
       "                                            activity chargeType  \\\n",
       "0                          [ Assault Causing Injury]          A   \n",
       "1                           [ Harassment 3rd Degree]          A   \n",
       "2                                             [ OWI]          A   \n",
       "3  [ Drive while license under suspension/cancelled]          C   \n",
       "4  [ Child endangerment/abuse- no injury,  Interf...          A   \n",
       "\n",
       "             datetime                     loc  \n",
       "0 2015-10-30 23:30:00      2116 FRIENDSHIP ST  \n",
       "1 2015-11-03 12:00:00               IOWA CITY  \n",
       "2 2015-11-05 01:57:00             111 S LUCAS  \n",
       "3 2015-11-04 23:31:00      RIVERSIDE DR/GRAND  \n",
       "4 2015-11-04 23:43:00  1926 BROADWAY ST APT B  "
      ]
     },
     "execution_count": 11,
     "metadata": {},
     "output_type": "execute_result"
    }
   ],
   "source": [
    "# Read in the files\n",
    "for row in csv.DictReader(open(jcOld)):\n",
    "    formatLarson(row)\n",
    "\n",
    "for row in csv.DictReader(open(jcNew)):\n",
    "    formatLarson(row)\n",
    "    \n",
    "    \n",
    "# DataFrame and calc datetime\n",
    "naiveDF = pd.DataFrame.from_records(arrestsNaive)\n",
    "naiveDF['datetime'] = pd.to_datetime(naiveDF['datetime'])\n",
    "naiveDF['activity'] = naiveDF['activity'].apply(lambda x: chargesList(x))\n",
    "naiveDF.head()"
   ]
  },
  {
   "cell_type": "code",
   "execution_count": null,
   "metadata": {
    "collapsed": false
   },
   "outputs": [],
   "source": [
    "naiveDF['activity'].iloc[0:50]"
   ]
  },
  {
   "cell_type": "code",
   "execution_count": null,
   "metadata": {
    "collapsed": true
   },
   "outputs": [],
   "source": []
  }
 ],
 "metadata": {
  "kernelspec": {
   "display_name": "Python 2",
   "language": "python",
   "name": "python2"
  },
  "language_info": {
   "codemirror_mode": {
    "name": "ipython",
    "version": 2
   },
   "file_extension": ".py",
   "mimetype": "text/x-python",
   "name": "python",
   "nbconvert_exporter": "python",
   "pygments_lexer": "ipython2",
   "version": "2.7.10"
  }
 },
 "nbformat": 4,
 "nbformat_minor": 0
}
