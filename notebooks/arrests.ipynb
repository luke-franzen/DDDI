{
 "cells": [
  {
   "cell_type": "markdown",
   "metadata": {},
   "source": [
    "# Arrests\n",
    "\n",
    "Two data sets:\n",
    "1. Franzen Scraped\n",
    "2. Larson Scraped (naive)\n",
    "\n",
    "## Franzen Scraped"
   ]
  },
  {
   "cell_type": "code",
   "execution_count": 1,
   "metadata": {
    "collapsed": true
   },
   "outputs": [],
   "source": [
    "# Libraries, base baths, etc\n",
    "import pandas as pd\n",
    "import numpy as np\n",
    "import json\n",
    "import csv\n",
    "\n",
    "dirData = '../data/'\n",
    "dirDataExt = dirData + 'external/'\n",
    "dirDataProc = dirData + 'processed/'\n",
    "\n",
    "dirScrapeFran = dirDataExt + 'franzen-scrape/'\n",
    "dirScrapeLars = dirDataExt + 'larson-scrape/'"
   ]
  },
  {
   "cell_type": "code",
   "execution_count": 2,
   "metadata": {
    "collapsed": false
   },
   "outputs": [],
   "source": [
    "# Helper to read the ndljson's\n",
    "def readNDLJson(f):\n",
    "    with open(f) as data:\n",
    "        jsonList = [json.loads(line) for line in data]\n",
    "    return jsonList\n",
    "\n",
    "# Helper function to format the arrests\n",
    "def formatRecord(record, ind=False):\n",
    "    if (ind == True):\n",
    "        record['datetime'] = record['datetime']['$date']\n",
    "    record['_id'] = record['_id']['$oid']\n",
    "    \n",
    "    return record"
   ]
  },
  {
   "cell_type": "code",
   "execution_count": 3,
   "metadata": {
    "collapsed": false
   },
   "outputs": [],
   "source": [
    "# Read and format the data\n",
    "\n",
    "actJson = readNDLJson(dirScrapeFran + 'activities.json')\n",
    "for arrest in actJson:\n",
    "    arrest = formatRecord(arrest, True)\n",
    "    \n",
    "actListJson = readNDLJson(dirScrapeFran + 'activityList.json')\n",
    "for activity in actListJson:\n",
    "    activity = formatRecord(activity)\n",
    "\n",
    "disJson = readNDLJson(dirScrapeFran + 'dispositionList.json')\n",
    "for disp in disJson:\n",
    "    disp = formatRecord(disp)"
   ]
  },
  {
   "cell_type": "code",
   "execution_count": 4,
   "metadata": {
    "collapsed": false
   },
   "outputs": [
    {
     "data": {
      "text/plain": [
       "{u'_id': u'50fcbd7ec0025f8c936c11ae',\n",
       " u'activity': u'ANIMAL/NEGLECT',\n",
       " u'address': u'938 Longfellow Place, Iowa City, IA 52240, USA',\n",
       " u'apt': u'',\n",
       " u'date': {u'$date': u'2013-01-07T14:29:00.000+0000'},\n",
       " u'datetime': u'2013-01-07T14:29:00.000+0000',\n",
       " u'details': u'Linked to CFS#: 13003060',\n",
       " u'dispatch': u'13003059',\n",
       " u'disposition': u'COMPLETED',\n",
       " u'inc': u'00234',\n",
       " u'link': u'?dis=13003059&date=01072013',\n",
       " u'loc': [-91.515237, 41.650727],\n",
       " u'time': u'02:29 pm'}"
      ]
     },
     "execution_count": 4,
     "metadata": {},
     "output_type": "execute_result"
    }
   ],
   "source": [
    "actJson[2020]"
   ]
  },
  {
   "cell_type": "code",
   "execution_count": 74,
   "metadata": {
    "collapsed": false
   },
   "outputs": [],
   "source": [
    "# Read the formatted lists into DataFrame\n",
    "actExcCol = ['_id', 'address', 'addresses', 'apt', 'date', 'dispatch', 'inc', 'link', 'time']\n",
    "activity = pd.DataFrame.from_records(actJson, exclude=actExcCol)\n",
    "\n",
    "# Coerce the activity datetime to datetime.index to get actual dates instead of UTC timestamps\n",
    "activity['datetime'] = pd.to_datetime(activity['datetime'], yearfirst=True)\n",
    "\n",
    "# Read in the final files\n",
    "actList = pd.DataFrame.from_records(actListJson, exclude=['index'])\n",
    "dispList = pd.DataFrame.from_records(disJson, exclude=['index'])"
   ]
  },
  {
   "cell_type": "code",
   "execution_count": 75,
   "metadata": {
    "collapsed": false
   },
   "outputs": [
    {
     "name": "stdout",
     "output_type": "stream",
     "text": [
      "The emulated arrest blotter has 9772 records.\n"
     ]
    },
    {
     "data": {
      "text/html": [
       "<div>\n",
       "<table border=\"1\" class=\"dataframe\">\n",
       "  <thead>\n",
       "    <tr style=\"text-align: right;\">\n",
       "      <th></th>\n",
       "      <th>activity</th>\n",
       "      <th>datetime</th>\n",
       "      <th>details</th>\n",
       "      <th>disposition</th>\n",
       "      <th>lat</th>\n",
       "      <th>loc</th>\n",
       "      <th>lon</th>\n",
       "    </tr>\n",
       "  </thead>\n",
       "  <tbody>\n",
       "    <tr>\n",
       "      <th>0</th>\n",
       "      <td>TRAFFIC STOP</td>\n",
       "      <td>2013-01-20 16:50:00</td>\n",
       "      <td>CERTIFIED SENT</td>\n",
       "      <td>ARREST MADE</td>\n",
       "      <td>NaN</td>\n",
       "      <td>[-91.500164, 41.635156]</td>\n",
       "      <td>NaN</td>\n",
       "    </tr>\n",
       "  </tbody>\n",
       "</table>\n",
       "</div>"
      ],
      "text/plain": [
       "       activity            datetime         details  disposition  lat  \\\n",
       "0  TRAFFIC STOP 2013-01-20 16:50:00  CERTIFIED SENT  ARREST MADE  NaN   \n",
       "\n",
       "                       loc  lon  \n",
       "0  [-91.500164, 41.635156]  NaN  "
      ]
     },
     "execution_count": 75,
     "metadata": {},
     "output_type": "execute_result"
    }
   ],
   "source": [
    "# From police activity, calc johnson county blotter\n",
    "arrestsFran = activity[(activity['disposition'] == 'ARREST MADE') | (activity['disposition'] == 'ARREST MADEA')]\n",
    "ticketsFran = activity[activity['disposition'] == 'CHARGED/RELEASED']\n",
    "blotter = pd.concat([arrestsFran, ticketsFran])\n",
    "\n",
    "print (\"The emulated arrest blotter has {} records.\".format(blotter.size))\n",
    "blotter.head(1)"
   ]
  },
  {
   "cell_type": "code",
   "execution_count": 72,
   "metadata": {
    "collapsed": false
   },
   "outputs": [],
   "source": [
    "# Simplify disposition\n",
    "blotter['chargeType'] = blotter['disposition'].apply(lambda x: 'A' if (x == ('ARREST MADE' or 'ARREST MADEA')) else 'C')\n",
    "\n",
    "# Redefine the blotter\n",
    "blotter = blotter[['datetime', 'activity', 'loc', 'chargeType']]"
   ]
  },
  {
   "cell_type": "markdown",
   "metadata": {},
   "source": [
    "## Naive Scraping"
   ]
  },
  {
   "cell_type": "code",
   "execution_count": null,
   "metadata": {
    "collapsed": true
   },
   "outputs": [],
   "source": [
    "# csv files and data structures\n",
    "jcOld = dirScrapeLars + '10-15-naive.csv'\n",
    "jcNew = dirScrapeLars + '9-16-naive.csv'\n",
    "\n",
    "arrestsNaive = []"
   ]
  },
  {
   "cell_type": "code",
   "execution_count": null,
   "metadata": {
    "collapsed": false
   },
   "outputs": [],
   "source": [
    "# Define a formatting function to read naive web scrapes\n",
    "def formatLarson(arr):\n",
    "    #Use incident number as the key, it's unique. \n",
    "    key = row.pop(\"*Incident #*\")\n",
    "    if key == \"*Incident #*\":\n",
    "        return\n",
    "\n",
    "    dates = row.pop(\"*Offense Date*\\nDate of Birth\")\n",
    "    try:\n",
    "        arrestDate = dates.split(\"*\")[1]\n",
    "    except:\n",
    "        # if there is no date, discard as we can't classify it\n",
    "        return\n",
    "        \n",
    "    arrestType = row.pop(\"*C/A*\")\n",
    "    arrestAddress = row.pop(\"Arrest Location\")\n",
    "    arrestCharges = row.pop(\"*Charge(s)*\")\n",
    "    \n",
    "    arrestsNaive.append({\"loc\":arrestAddress, \"datetime\": arrestDate, \"chargeType\":arrestType, \n",
    "                         \"activity\":arrestCharges})"
   ]
  },
  {
   "cell_type": "code",
   "execution_count": null,
   "metadata": {
    "collapsed": true
   },
   "outputs": [],
   "source": [
    "# Helper function to coerce the charges into something more concise\n",
    "def chargesList(arr):\n",
    "    splitted = arr.split('\\n')\n",
    "    newCharges = []\n",
    "    for charge in splitted:\n",
    "        if (len(charge[2:]) >= 3):\n",
    "            newCharges.append(charge[2:])\n",
    "        \n",
    "    return newCharges"
   ]
  },
  {
   "cell_type": "code",
   "execution_count": null,
   "metadata": {
    "collapsed": false
   },
   "outputs": [],
   "source": [
    "# Read in the files\n",
    "for row in csv.DictReader(open(jcOld)):\n",
    "    formatLarson(row)\n",
    "\n",
    "for row in csv.DictReader(open(jcNew)):\n",
    "    formatLarson(row)\n",
    "    \n",
    "    \n",
    "# DataFrame and calc datetime\n",
    "naiveDF = pd.DataFrame.from_records(arrestsNaive)\n",
    "naiveDF['datetime'] = pd.to_datetime(naiveDF['datetime'])\n",
    "naiveDF['activity'] = naiveDF['activity'].apply(lambda x: chargesList(x))\n",
    "naiveDF.head()"
   ]
  },
  {
   "cell_type": "code",
   "execution_count": null,
   "metadata": {
    "collapsed": false
   },
   "outputs": [],
   "source": [
    "naiveDF['activity'].iloc[0:50]"
   ]
  },
  {
   "cell_type": "markdown",
   "metadata": {
    "collapsed": true
   },
   "source": [
    "## Merging\n",
    "\n",
    "[Very to-do]"
   ]
  },
  {
   "cell_type": "markdown",
   "metadata": {},
   "source": [
    "## Gameday Calculation\n",
    "\n",
    "\n",
    "1. Read in `iowa-home-games.csv`\n",
    "2. Make Set of home game dates (sets are faster to compute `isInSet()`/inclusion)\n",
    "3. Create function to calculate `gameday(Y/N)` or `gamedayWeekend(Y/N)`"
   ]
  },
  {
   "cell_type": "code",
   "execution_count": 8,
   "metadata": {
    "collapsed": false
   },
   "outputs": [
    {
     "data": {
      "text/html": [
       "<div>\n",
       "<table border=\"1\" class=\"dataframe\">\n",
       "  <thead>\n",
       "    <tr style=\"text-align: right;\">\n",
       "      <th></th>\n",
       "      <th>Unnamed: 0</th>\n",
       "      <th>Visitor</th>\n",
       "      <th>Visitor Score</th>\n",
       "      <th>Home Team</th>\n",
       "      <th>Home Score</th>\n",
       "      <th>Line</th>\n",
       "      <th>Win</th>\n",
       "      <th>Delta</th>\n",
       "    </tr>\n",
       "    <tr>\n",
       "      <th>Date</th>\n",
       "      <th></th>\n",
       "      <th></th>\n",
       "      <th></th>\n",
       "      <th></th>\n",
       "      <th></th>\n",
       "      <th></th>\n",
       "      <th></th>\n",
       "      <th></th>\n",
       "    </tr>\n",
       "  </thead>\n",
       "  <tbody>\n",
       "    <tr>\n",
       "      <th>1978-09-16</th>\n",
       "      <td>98</td>\n",
       "      <td>Northwestern</td>\n",
       "      <td>3.0</td>\n",
       "      <td>Iowa</td>\n",
       "      <td>20.0</td>\n",
       "      <td>14.0</td>\n",
       "      <td>1</td>\n",
       "      <td>17.0</td>\n",
       "    </tr>\n",
       "    <tr>\n",
       "      <th>1978-09-23</th>\n",
       "      <td>151</td>\n",
       "      <td>Iowa State</td>\n",
       "      <td>31.0</td>\n",
       "      <td>Iowa</td>\n",
       "      <td>0.0</td>\n",
       "      <td>-2.5</td>\n",
       "      <td>0</td>\n",
       "      <td>-31.0</td>\n",
       "    </tr>\n",
       "    <tr>\n",
       "      <th>1978-10-07</th>\n",
       "      <td>333</td>\n",
       "      <td>Utah</td>\n",
       "      <td>13.0</td>\n",
       "      <td>Iowa</td>\n",
       "      <td>9.0</td>\n",
       "      <td></td>\n",
       "      <td>0</td>\n",
       "      <td>-4.0</td>\n",
       "    </tr>\n",
       "    <tr>\n",
       "      <th>1978-10-28</th>\n",
       "      <td>529</td>\n",
       "      <td>Purdue</td>\n",
       "      <td>34.0</td>\n",
       "      <td>Iowa</td>\n",
       "      <td>7.0</td>\n",
       "      <td>-10.5</td>\n",
       "      <td>0</td>\n",
       "      <td>-27.0</td>\n",
       "    </tr>\n",
       "    <tr>\n",
       "      <th>1978-11-04</th>\n",
       "      <td>579</td>\n",
       "      <td>Michigan</td>\n",
       "      <td>34.0</td>\n",
       "      <td>Iowa</td>\n",
       "      <td>0.0</td>\n",
       "      <td>-27.0</td>\n",
       "      <td>0</td>\n",
       "      <td>-34.0</td>\n",
       "    </tr>\n",
       "  </tbody>\n",
       "</table>\n",
       "</div>"
      ],
      "text/plain": [
       "            Unnamed: 0       Visitor  Visitor Score Home Team  Home Score  \\\n",
       "Date                                                                        \n",
       "1978-09-16          98  Northwestern            3.0      Iowa        20.0   \n",
       "1978-09-23         151    Iowa State           31.0      Iowa         0.0   \n",
       "1978-10-07         333          Utah           13.0      Iowa         9.0   \n",
       "1978-10-28         529        Purdue           34.0      Iowa         7.0   \n",
       "1978-11-04         579      Michigan           34.0      Iowa         0.0   \n",
       "\n",
       "             Line  Win  Delta  \n",
       "Date                           \n",
       "1978-09-16   14.0    1   17.0  \n",
       "1978-09-23   -2.5    0  -31.0  \n",
       "1978-10-07           0   -4.0  \n",
       "1978-10-28  -10.5    0  -27.0  \n",
       "1978-11-04  -27.0    0  -34.0  "
      ]
     },
     "execution_count": 8,
     "metadata": {},
     "output_type": "execute_result"
    }
   ],
   "source": [
    "# Read in the games, set the index as the date, and infer it's format\n",
    "iowaHomeGames = pd.DataFrame.from_csv(open(dirDataProc + 'iowa-home-games.csv'), index_col='Date', infer_datetime_format=True)\n",
    "iowaHomeGames.head()"
   ]
  },
  {
   "cell_type": "code",
   "execution_count": 166,
   "metadata": {
    "collapsed": false
   },
   "outputs": [],
   "source": [
    "# get set of home dates\n",
    "gamedays = pd.Series(iowaHomeGames.index).map(lambda x: x.date()).tolist()\n",
    "\n",
    "# add the gameday column, currently it looks like no gamedays are in franzens arrests\n",
    "activity['GD'] = activity['datetime'].head().map(lambda x: x.date()).isin(gamedays)"
   ]
  },
  {
   "cell_type": "markdown",
   "metadata": {},
   "source": [
    "## Plotting"
   ]
  },
  {
   "cell_type": "code",
   "execution_count": null,
   "metadata": {
    "collapsed": false
   },
   "outputs": [],
   "source": [
    "# libraries & set up\n",
    "import matplotlib.pyplot as plt\n",
    "import matplotlib\n",
    "\n",
    "# Overall matplotlib config\n",
    "plt.style.use('ggplot')\n",
    "\n",
    "%matplotlib inline"
   ]
  },
  {
   "cell_type": "code",
   "execution_count": null,
   "metadata": {
    "collapsed": false
   },
   "outputs": [],
   "source": [
    "# Top arrests\n",
    "topArrests = blotter['activity'].value_counts(ascending=True)\n",
    "topArrestsPlotted = topArrests.iloc[-15:,]\n",
    "\n",
    "\n",
    "\n",
    "# Create axes\n",
    "ax = plt.subplot(111)\n",
    "\n",
    "# add gridlines\n",
    "ax.xaxis.grid(zorder=0)\n",
    "\n",
    "# Remove axes lines\n",
    "ax.spines[\"top\"].set_visible(False)    \n",
    "ax.spines[\"bottom\"].set_visible(False)    \n",
    "ax.spines[\"right\"].set_visible(False)    \n",
    "ax.spines[\"left\"].set_visible(False)    \n",
    "\n",
    "# remove axes ticks\n",
    "ax.get_xaxis().tick_bottom()    \n",
    "ax.get_yaxis().tick_left()\n",
    "\n",
    "# Plot it\n",
    "plt.barh(range(topArrestsPlotted.size), topArrestsPlotted)\n",
    "plt.yticks(range(topArrestsPlotted.size), topArrestsPlotted.index)\n",
    "\n",
    "\n",
    "plt.show()"
   ]
  },
  {
   "cell_type": "code",
   "execution_count": null,
   "metadata": {
    "collapsed": false
   },
   "outputs": [],
   "source": [
    "# Arrests over time\n",
    "\n",
    "# Get the # arrests on each day\n",
    "arrestDates = blotter['datetime'].apply(lambda x: x.date()).value_counts()\n",
    "arrestsByDay = arrestDates.reindex(pd.to_datetime(arrestDates.index))\n",
    "\n",
    "### IN PROGRESS ###"
   ]
  },
  {
   "cell_type": "code",
   "execution_count": null,
   "metadata": {
    "collapsed": false
   },
   "outputs": [],
   "source": [
    "# Small Multiples\n",
    "### We want a plot for each crime, so we can see the ebb & flow each week\n",
    "### Therefore, we group on actvity and then calc the num of occurences by day\n",
    "\n",
    "# set the datetime index\n",
    "sm = blotter.set_index('datetime')\n",
    "sm['dayWeek'] = sm.index.dayofweek\n",
    "\n",
    "# We want the grouping in the comments\n",
    "smData = sm.groupby(['activity', 'dayWeek']).size()\n",
    "\n",
    "# ....but we don't want EVERY activity\n",
    "# So we create a set to test for inclusion, and filter the selection\n",
    "smCrimes = set(topArrestsPlotted[-9:].index)"
   ]
  },
  {
   "cell_type": "code",
   "execution_count": null,
   "metadata": {
    "collapsed": false
   },
   "outputs": [],
   "source": [
    "topArrestsPlotted"
   ]
  },
  {
   "cell_type": "code",
   "execution_count": null,
   "metadata": {
    "collapsed": true
   },
   "outputs": [],
   "source": []
  }
 ],
 "metadata": {
  "anaconda-cloud": {},
  "kernelspec": {
   "display_name": "Python 2",
   "language": "python",
   "name": "python2"
  },
  "language_info": {
   "codemirror_mode": {
    "name": "ipython",
    "version": 2
   },
   "file_extension": ".py",
   "mimetype": "text/x-python",
   "name": "python",
   "nbconvert_exporter": "python",
   "pygments_lexer": "ipython2",
   "version": "2.7.12"
  }
 },
 "nbformat": 4,
 "nbformat_minor": 0
}
