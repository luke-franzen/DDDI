{
 "cells": [
  {
   "cell_type": "markdown",
   "metadata": {},
   "source": [
    "# Scraping\n",
    "\n",
    "Alternatively: '*hacking*'\n",
    "\n",
    "In this notebook we will use the Python module BeautifulSoup4 to parse the Johnson County Arrest Blotter. While it's not nearly as wide as Franzen's scraped data, it's more focused on what we need."
   ]
  },
  {
   "cell_type": "code",
   "execution_count": 4,
   "metadata": {
    "collapsed": false
   },
   "outputs": [],
   "source": [
    "# Libraries\n",
    "import pandas as pd\n",
    "import numpy as np\n",
    "\n",
    "from bs4 import BeautifulSoup\n",
    "import requests"
   ]
  },
  {
   "cell_type": "code",
   "execution_count": null,
   "metadata": {
    "collapsed": true
   },
   "outputs": [],
   "source": [
    "# Blocking out for later work\n",
    "# this will be the logic function for iterating which sites to scrape\n",
    "# Because Johnson County only holds the past 30 days of "
   ]
  },
  {
   "cell_type": "code",
   "execution_count": 29,
   "metadata": {
    "collapsed": false
   },
   "outputs": [
    {
     "name": "stderr",
     "output_type": "stream",
     "text": [
      "C:\\Anaconda3\\lib\\site-packages\\bs4\\__init__.py:166: UserWarning: No parser was explicitly specified, so I'm using the best available HTML parser for this system (\"lxml\"). This usually isn't a problem, but if you run this code on another system, or in a different virtual environment, it may use a different parser and behave differently.\n",
      "\n",
      "To get rid of this warning, change this:\n",
      "\n",
      " BeautifulSoup([your markup])\n",
      "\n",
      "to this:\n",
      "\n",
      " BeautifulSoup([your markup], \"lxml\")\n",
      "\n",
      "  markup_type=markup_type))\n"
     ]
    }
   ],
   "source": [
    "# Lets set up everything we need to scrape the arrests blotter\n",
    "baseURL = 'http://www.iowa-city.org/icgov/apps/police/blotter.asp'\n",
    "\n",
    "# a valid site url looks like http://www.iowa-city.org/icgov/apps/police/blotter.asp?date=09102016\n",
    "page  = requests.get('http://www.iowa-city.org/icgov/apps/police/blotter.asp?date=09102016')\n",
    "soup = BeautifulSoup(page.text)"
   ]
  },
  {
   "cell_type": "code",
   "execution_count": 39,
   "metadata": {
    "collapsed": false
   },
   "outputs": [],
   "source": [
    "# this is the arrest table\n",
    "table = soup.find(\"table\", {\"class\": \"full\"})"
   ]
  },
  {
   "cell_type": "code",
   "execution_count": 37,
   "metadata": {
    "collapsed": true
   },
   "outputs": [],
   "source": [
    "arrestsList = []"
   ]
  },
  {
   "cell_type": "code",
   "execution_count": 81,
   "metadata": {
    "collapsed": false
   },
   "outputs": [
    {
     "name": "stdout",
     "output_type": "stream",
     "text": [
      "10 S CLINTON ST\n",
      "---\n",
      "\n",
      "BURLINGTON/GILBERT\n",
      "---\n",
      "\n",
      "700 BOWERY ST\n",
      "---\n",
      "\n",
      "PED MALL/DUBUQUE AND WASHINGTON\n",
      "---\n",
      "\n",
      "410 E WASHINGTON ST\n",
      "---\n",
      "\n",
      "COURT/GILBERT\n",
      "---\n",
      "\n",
      "115 S LUCAS ST\n",
      "---\n",
      "\n",
      "300 S JOHNSON ST\n",
      "---\n",
      "\n",
      "837 WALNUT ST\n",
      "---\n",
      "\n",
      "525 HWY 1 W\n",
      "---\n",
      "\n",
      "4020 RUTH ST\n",
      "---\n",
      "\n",
      "SHERATON INN CIRCLE\n",
      "---\n",
      "\n",
      "510 S JOHNSON ST\n",
      "---\n",
      "\n",
      "UNION BAR, 121 E COLLEGE ST\n",
      "---\n",
      "\n",
      "300 S JOHNSON ST\n",
      "---\n",
      "\n",
      "100 N DODGE\n",
      "---\n",
      "\n",
      "200 S DUBUQUE ST\n",
      "---\n",
      "\n",
      "100 IOWA AV\n",
      "---\n",
      "\n",
      "LOWER MUSCATINE/SPRUCE\n",
      "---\n",
      "\n",
      "SHERATON INN CIRCLE\n",
      "---\n",
      "\n",
      "115 S LUCAS ST\n",
      "---\n",
      "\n",
      "115 S LUCAS ST\n",
      "---\n",
      "\n",
      "114 S CLINTON ST\n",
      "---\n",
      "\n",
      "500 BLK S JOHNSON ST\n",
      "---\n",
      "\n",
      "500 BLK S JOHNSON ST\n",
      "---\n",
      "\n",
      "IOWA AVE/DUBUQUE ST\n",
      "---\n",
      "\n"
     ]
    }
   ],
   "source": [
    "# given any JC arrest blotter table, extract all the information from it\n",
    "for row in table.findAll('tr'):\n",
    "    \n",
    "    # First row is always blank, skip row if empty\n",
    "    cells = row.findAll('td')\n",
    "    if (len(cells) == 0):\n",
    "        continue\n",
    "    \n",
    "    \n",
    "    col0 = cells[0]\n",
    "    col1 = cells[1]\n",
    "    col2 = cells[2]\n",
    "    col3 = cells[3]\n",
    "    col4 = cells[4]\n",
    "    \n",
    "    #col5.text results in a string that needs reg exp \"#)_\"\n",
    "    col5 = cells[5]\n",
    "      \n",
    "    # finding the strong tags is easier than trying to parse these f*&cking columns\n",
    "    strongs = row.findAll('strong')\n",
    "    \n",
    "    name = strongs[0].text\n",
    "    arrestTime = strongs[1].text\n",
    "    \n",
    "    arrestAddr = col2.text\n",
    "    incidentNum = int(col3.text)\n",
    "    chargeType = col4.text\n",
    "    \n",
    "    print (col2.text)\n",
    "    \n",
    "    #[0] = name, address\n",
    "    #[1] = offense date, DOB\n",
    "    #[2] = arrest location (just street name)\n",
    "    #[3] = incident #\n",
    "    #[4] = C/A (charge/arrest)\n",
    "    #[5] = charges\n",
    "    \n",
    "    \n",
    "    print ('---\\n')"
   ]
  },
  {
   "cell_type": "code",
   "execution_count": null,
   "metadata": {
    "collapsed": true
   },
   "outputs": [],
   "source": []
  }
 ],
 "metadata": {
  "kernelspec": {
   "display_name": "Python [Root]",
   "language": "python",
   "name": "Python [Root]"
  },
  "language_info": {
   "codemirror_mode": {
    "name": "ipython",
    "version": 3
   },
   "file_extension": ".py",
   "mimetype": "text/x-python",
   "name": "python",
   "nbconvert_exporter": "python",
   "pygments_lexer": "ipython3",
   "version": "3.5.2"
  }
 },
 "nbformat": 4,
 "nbformat_minor": 0
}
